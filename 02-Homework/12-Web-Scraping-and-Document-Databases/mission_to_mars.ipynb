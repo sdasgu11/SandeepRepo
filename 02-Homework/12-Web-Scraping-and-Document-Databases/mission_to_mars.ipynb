{
 "cells": [
  {
   "cell_type": "code",
   "execution_count": 197,
   "metadata": {},
   "outputs": [
    {
     "name": "stdout",
     "output_type": "stream",
     "text": [
      "/usr/local/bin/chromedriver\r\n"
     ]
    }
   ],
   "source": [
    "from bs4 import BeautifulSoup\n",
    "import requests\n",
    "import pymongo\n",
    "from splinter import Browser\n",
    "import pandas as pd\n",
    "from datetime import datetime\n",
    "# https://splinter.readthedocs.io/en/latest/drivers/chrome.html\n",
    "!which chromedriver"
   ]
  },
  {
   "cell_type": "code",
   "execution_count": 198,
   "metadata": {},
   "outputs": [],
   "source": [
    "#def init_browser():\n",
    "executable_path = {'executable_path': '/usr/local/bin/chromedriver'}\n",
    "browser = Browser('chrome', **executable_path, headless=False)\n",
    "#return Browser(\"chrome\", **executable_path, headless=False)\n",
    "\n"
   ]
  },
  {
   "cell_type": "code",
   "execution_count": 199,
   "metadata": {},
   "outputs": [],
   "source": [
    "def init_db():\n",
    "    # Initialize PyMongo to work with MongoDBs\n",
    "    conn = 'mongodb://localhost:27017'\n",
    "    client = pymongo.MongoClient(conn)\n",
    "    db = client.mars_db\n",
    "    return db\n"
   ]
  },
  {
   "cell_type": "code",
   "execution_count": 200,
   "metadata": {},
   "outputs": [],
   "source": [
    "# Define database and collection\n",
    "#db = client.mars_db\n",
    "#collection = db.??"
   ]
  },
  {
   "cell_type": "code",
   "execution_count": 201,
   "metadata": {},
   "outputs": [],
   "source": [
    "def create_soup(url):\n",
    "    # URL of page to be scraped\n",
    "   # browser = init_browser()\n",
    "    browser.visit(url)\n",
    "    soup = BeautifulSoup(browser.html,\"html.parser\")\n",
    "\n",
    "    return soup\n",
    "\n"
   ]
  },
  {
   "cell_type": "code",
   "execution_count": 202,
   "metadata": {},
   "outputs": [],
   "source": [
    "def get_mars_news():\n",
    "    url = 'https://mars.nasa.gov/news/'\n",
    "    soup = create_soup(url)\n",
    "    title = soup.find(\"div\",class_ = \"content_title\").text\n",
    "    body = soup.find(\"div\", class_=\"article_teaser_body\").text\n",
    "    return{\n",
    "    (f\"Title: {title}\"),\n",
    "    (f\"Para: {body}\")\n",
    "    }\n",
    "    "
   ]
  },
  {
   "cell_type": "code",
   "execution_count": 203,
   "metadata": {},
   "outputs": [],
   "source": [
    "def get_mars_imageX():\n",
    "    #featured_image_url = 'https://www.jpl.nasa.gov/spaceimages/images/largesize/PIA16225_hires.jpg'\n",
    "    url = 'https://www.jpl.nasa.gov/spaceimages/?search=&category=Mars'\n",
    "    soup = create_soup(url)\n",
    "    #click full image\n",
    "    imgElem= soup.find_by_id(\"full_image\")\n",
    "    imgElem.click()\n",
    "    soup.is_element_present_by_text(\"more info\",wait_time=0.3)\n",
    "    moreElem = soup.find_link_by_partial_text(\"more info\")\n",
    "    moreElem.click()\n",
    "    imgSoup = create_soup(url)\n",
    "    imgUrl=imgSoup.select_one(\"figure.lede a img\").get(\"src\")\n",
    "    imgUrl=f\"https://www.jpl.nasa.gov{imgUrl}\"\n",
    "    return {\n",
    "            \"img_url\":imgUrl\n",
    "           }\n",
    "    print(imgUrl)\n"
   ]
  },
  {
   "cell_type": "code",
   "execution_count": 204,
   "metadata": {},
   "outputs": [],
   "source": [
    "def get_MARS_image():\n",
    "    JPL_home_url = \"https://www.jpl.nasa.gov\"\n",
    "    JPL_img_url = JPL_home_url+\"/spaceimages/?search=&category=Mars\"\n",
    "    jpl_soup = create_soup(JPL_img_url)\n",
    "    items = jpl_soup.find(\"div\",{\"class\":\"carousel_items\"})\n",
    "    img_title = items.find(\"h1\",{\"class\":\"media_feature_title\"})\n",
    "    featured_img = items.find(\"article\")\n",
    "    img_url = JPL_home_url+featured_img['style'].split(':')[1].split('\\'')[1]\n",
    "    return {\n",
    "            \"title\":img_title,\n",
    "            \"img_url\":img_url\n",
    "           }"
   ]
  },
  {
   "cell_type": "code",
   "execution_count": 205,
   "metadata": {},
   "outputs": [],
   "source": [
    "### Mars Weather\n",
    "#* Visit the Mars Weather twitter account [here](https://twitter.com/marswxreport?lang=en) and scrape the latest Mars weather tweet from the page. Save the tweet text for the weather report as a variable called `mars_weather`.\n",
    "#python\n",
    "# Example:\n",
    "#mars_weather = 'Sol 1801 (Aug 30, 2017), Sunny, high -21C/-5F, low -80C/-112F, pressure at 8.82 hPa, daylight 06:09-17:55'"
   ]
  },
  {
   "cell_type": "code",
   "execution_count": 206,
   "metadata": {},
   "outputs": [],
   "source": [
    "def get_mars_weather():\n",
    "    url_weather = \"https://twitter.com/marswxreport?lang=en\"\n",
    "    soup = create_soup(url_weather)\n",
    "    mars_weather = soup.find(\"p\", class_=\"TweetTextSize TweetTextSize--normal js-tweet-text tweet-text\").text\n",
    "  #  return(mars_weather) \n",
    "    print(mars_weather)"
   ]
  },
  {
   "cell_type": "code",
   "execution_count": 207,
   "metadata": {},
   "outputs": [],
   "source": [
    "#Visit the Mars Facts webpage [here](http://space-facts.com/mars/) and use Pandas to scrape the table containing facts about the planet including Diameter, Mass, etc.\n",
    "# Use Pandas to convert the data to a HTML table string.\n",
    "def get_mars_facts():\n",
    "    url_weather = \"https://space-facts.com/mars/\"\n",
    "    table = pd.read_html(url_weather)\n",
    "    # this is to ensure that we get the first table.\n",
    "    df = table[0]\n",
    "    df.columns =[\"Parameter\",\"Value\"]\n",
    "    df.set_index([\"Parameter\"])\n",
    "    table[0]\n",
    "    new_html_table = df.to_html()\n",
    "    return(new_html_table)\n"
   ]
  },
  {
   "cell_type": "code",
   "execution_count": 208,
   "metadata": {},
   "outputs": [],
   "source": [
    "def get_MARS_hemisphere_data():\n",
    "    url = \"https://astrogeology.usgs.gov/search/results?q=hemisphere+enhanced&k1=target&v1=Mars\"\n",
    "    soup = create_soup(url)\n",
    "    items = soup.find(\"div\",{\"id\":\"product-section\"}).find_all(\"div\",{\"class\":\"item\"})\n",
    "    hemisphere_data = []\n",
    "    for item in items:\n",
    "        print(item)\n",
    "        img_main_url = \"https://astrogeology.usgs.gov\"+item.find(\"a\")[\"href\"]\n",
    "        img_title = item.find(\"div\",{\"class\":\"description\"}).find(\"a\").find(\"h3\").text\n",
    "        img_soup = create_soup(img_main_url)\n",
    "        download_item = img_soup.find(\"div\",{\"class\":\"downloads\"})\n",
    "        hemisphere_item = {\n",
    "            \"title\":img_title,\n",
    "            \"img_url\": download_item.find(\"li\").find(\"a\")[\"href\"]\n",
    "        }\n",
    "        hemisphere_data.append(hemisphere_item)\n",
    "        \n",
    "    return hemisphere_data\n",
    "\n",
    "\n",
    "\n"
   ]
  },
  {
   "cell_type": "code",
   "execution_count": 209,
   "metadata": {},
   "outputs": [],
   "source": [
    "  # def getValue():\n",
    "  #  mars_hm_data = get_MARS_hemisphere_data()\n",
    "  #  return{\n",
    "  #        \"hemisphere_data\":mars_hm_data\n",
    "  #        }\n",
    "    \n"
   ]
  },
  {
   "cell_type": "code",
   "execution_count": 210,
   "metadata": {},
   "outputs": [],
   "source": [
    "#getValue()"
   ]
  },
  {
   "cell_type": "code",
   "execution_count": 211,
   "metadata": {},
   "outputs": [],
   "source": [
    "def scrape():\n",
    "    mars_news = get_mars_news()\n",
    "    mars_img = get_MARS_image()\n",
    "    mars_facts = get_mars_facts()\n",
    "    mars_temp = get_mars_weather()\n",
    "    mars_hm_data = get_MARS_hemisphere_data()\n",
    "    #mars_hm_data = getValue()\n",
    "    return {\n",
    "        \"date\":datetime.now(),\n",
    "        \"news\":mars_news,\n",
    "        \"featured_img\":mars_img,\n",
    "        \"facts\":mars_facts,\n",
    "        \"temperature\":mars_temp,\n",
    "        \"hemisphere_data\":mars_hm_data\n",
    "    }"
   ]
  },
  {
   "cell_type": "code",
   "execution_count": 212,
   "metadata": {},
   "outputs": [
    {
     "name": "stdout",
     "output_type": "stream",
     "text": [
      "InSight sol 106 (2019-03-15) low -96.3ºC (-141.4ºF) high -15.9ºC (3.3ºF)\n",
      "winds from the SW at 4.1 m/s (9.3 mph) gusting to 12.4 m/s (27.8 mph)\n",
      "pressure at 7.20 hPapic.twitter.com/OkdWbeg6uw\n",
      "<div class=\"item\"><a class=\"itemLink product-item\" href=\"/search/map/Mars/Viking/cerberus_enhanced\"><img alt=\"Cerberus Hemisphere Enhanced thumbnail\" class=\"thumb\" src=\"/cache/images/dfaf3849e74bf973b59eb50dab52b583_cerberus_enhanced.tif_thumb.png\"/></a><div class=\"description\"><a class=\"itemLink product-item\" href=\"/search/map/Mars/Viking/cerberus_enhanced\"><h3>Cerberus Hemisphere Enhanced</h3></a><span class=\"subtitle\" style=\"float:left\">image/tiff 21 MB</span><span class=\"pubDate\" style=\"float:right\"></span><br/><p>Mosaic of the Cerberus hemisphere of Mars projected into point perspective, a view similar to that which one would see from a spacecraft. This mosaic is composed of 104 Viking Orbiter images acquired…</p></div> <!-- end description --></div>\n",
      "<div class=\"item\"><a class=\"itemLink product-item\" href=\"/search/map/Mars/Viking/schiaparelli_enhanced\"><img alt=\"Schiaparelli Hemisphere Enhanced thumbnail\" class=\"thumb\" src=\"/cache/images/7677c0a006b83871b5a2f66985ab5857_schiaparelli_enhanced.tif_thumb.png\"/></a><div class=\"description\"><a class=\"itemLink product-item\" href=\"/search/map/Mars/Viking/schiaparelli_enhanced\"><h3>Schiaparelli Hemisphere Enhanced</h3></a><span class=\"subtitle\" style=\"float:left\">image/tiff 35 MB</span><span class=\"pubDate\" style=\"float:right\"></span><br/><p>Mosaic of the Schiaparelli hemisphere of Mars projected into point perspective, a view similar to that which one would see from a spacecraft. The images were acquired in 1980 during early northern…</p></div> <!-- end description --></div>\n",
      "<div class=\"item\"><a class=\"itemLink product-item\" href=\"/search/map/Mars/Viking/syrtis_major_enhanced\"><img alt=\"Syrtis Major Hemisphere Enhanced thumbnail\" class=\"thumb\" src=\"/cache/images/aae41197e40d6d4f3ea557f8cfe51d15_syrtis_major_enhanced.tif_thumb.png\"/></a><div class=\"description\"><a class=\"itemLink product-item\" href=\"/search/map/Mars/Viking/syrtis_major_enhanced\"><h3>Syrtis Major Hemisphere Enhanced</h3></a><span class=\"subtitle\" style=\"float:left\">image/tiff 25 MB</span><span class=\"pubDate\" style=\"float:right\"></span><br/><p>Mosaic of the Syrtis Major hemisphere of Mars projected into point perspective, a view similar to that which one would see from a spacecraft. This mosaic is composed of about 100 red and violet…</p></div> <!-- end description --></div>\n",
      "<div class=\"item\"><a class=\"itemLink product-item\" href=\"/search/map/Mars/Viking/valles_marineris_enhanced\"><img alt=\"Valles Marineris Hemisphere Enhanced thumbnail\" class=\"thumb\" src=\"/cache/images/04085d99ec3713883a9a57f42be9c725_valles_marineris_enhanced.tif_thumb.png\"/></a><div class=\"description\"><a class=\"itemLink product-item\" href=\"/search/map/Mars/Viking/valles_marineris_enhanced\"><h3>Valles Marineris Hemisphere Enhanced</h3></a><span class=\"subtitle\" style=\"float:left\">image/tiff 27 MB</span><span class=\"pubDate\" style=\"float:right\"></span><br/><p>Mosaic of the Valles Marineris hemisphere of Mars projected into point perspective, a view similar to that which one would see from a spacecraft. The distance is 2500 kilometers from the surface of…</p></div> <!-- end description --></div>\n"
     ]
    },
    {
     "data": {
      "text/plain": [
       "{'date': datetime.datetime(2019, 3, 18, 7, 16, 25, 117292),\n",
       " 'news': {\"Para: NASA declared the record-setting rover's mission complete on Feb. 13, 2019, but the final image from the rover has just been processed.\",\n",
       "  \"Title: Opportunity's Parting Shot Was a Beautiful Panorama\"},\n",
       " 'featured_img': {'title': <h1 class=\"media_feature_title\">\n",
       "  \t\t\t\t  Weighing in on the Dumbbell Nebula\t\t\t\t</h1>,\n",
       "  'img_url': 'https://www.jpl.nasa.gov/spaceimages/images/wallpaper/PIA14417-1920x1200.jpg'},\n",
       " 'facts': '<table border=\"1\" class=\"dataframe\">\\n  <thead>\\n    <tr style=\"text-align: right;\">\\n      <th></th>\\n      <th>Parameter</th>\\n      <th>Value</th>\\n    </tr>\\n  </thead>\\n  <tbody>\\n    <tr>\\n      <th>0</th>\\n      <td>Equatorial Diameter:</td>\\n      <td>6,792 km</td>\\n    </tr>\\n    <tr>\\n      <th>1</th>\\n      <td>Polar Diameter:</td>\\n      <td>6,752 km</td>\\n    </tr>\\n    <tr>\\n      <th>2</th>\\n      <td>Mass:</td>\\n      <td>6.42 x 10^23 kg (10.7% Earth)</td>\\n    </tr>\\n    <tr>\\n      <th>3</th>\\n      <td>Moons:</td>\\n      <td>2 (Phobos &amp; Deimos)</td>\\n    </tr>\\n    <tr>\\n      <th>4</th>\\n      <td>Orbit Distance:</td>\\n      <td>227,943,824 km (1.52 AU)</td>\\n    </tr>\\n    <tr>\\n      <th>5</th>\\n      <td>Orbit Period:</td>\\n      <td>687 days (1.9 years)</td>\\n    </tr>\\n    <tr>\\n      <th>6</th>\\n      <td>Surface Temperature:</td>\\n      <td>-153 to 20 °C</td>\\n    </tr>\\n    <tr>\\n      <th>7</th>\\n      <td>First Record:</td>\\n      <td>2nd millennium BC</td>\\n    </tr>\\n    <tr>\\n      <th>8</th>\\n      <td>Recorded By:</td>\\n      <td>Egyptian astronomers</td>\\n    </tr>\\n  </tbody>\\n</table>',\n",
       " 'temperature': None,\n",
       " 'hemisphere_data': [{'title': 'Cerberus Hemisphere Enhanced',\n",
       "   'img_url': 'http://astropedia.astrogeology.usgs.gov/download/Mars/Viking/cerberus_enhanced.tif/full.jpg'},\n",
       "  {'title': 'Schiaparelli Hemisphere Enhanced',\n",
       "   'img_url': 'http://astropedia.astrogeology.usgs.gov/download/Mars/Viking/schiaparelli_enhanced.tif/full.jpg'},\n",
       "  {'title': 'Syrtis Major Hemisphere Enhanced',\n",
       "   'img_url': 'http://astropedia.astrogeology.usgs.gov/download/Mars/Viking/syrtis_major_enhanced.tif/full.jpg'},\n",
       "  {'title': 'Valles Marineris Hemisphere Enhanced',\n",
       "   'img_url': 'http://astropedia.astrogeology.usgs.gov/download/Mars/Viking/valles_marineris_enhanced.tif/full.jpg'}]}"
      ]
     },
     "execution_count": 212,
     "metadata": {},
     "output_type": "execute_result"
    }
   ],
   "source": [
    "scrape()"
   ]
  },
  {
   "cell_type": "code",
   "execution_count": 213,
   "metadata": {},
   "outputs": [
    {
     "data": {
      "text/plain": [
       "{'Equatorial Diameter:': '6,792 km',\n",
       " 'Polar Diameter:': '6,752 km',\n",
       " 'Mass:': '6.42 x 10^23 kg (10.7% Earth)',\n",
       " 'Moons:': '2 (Phobos & Deimos)',\n",
       " 'Orbit Distance:': '227,943,824 km (1.52 AU)',\n",
       " 'Orbit Period:': '687 days (1.9 years)',\n",
       " 'Surface Temperature:': '-153 to 20 °C',\n",
       " 'First Record:': '2nd millennium BC',\n",
       " 'Recorded By:': 'Egyptian astronomers'}"
      ]
     },
     "execution_count": 213,
     "metadata": {},
     "output_type": "execute_result"
    }
   ],
   "source": [
    "df = pd.read_html(\"https://space-facts.com/mars/\")[0]\n",
    "df = df.rename(columns={0:\"Description\",1:\"Value\"})\n",
    "df = df.set_index(\"Description\")\n",
    "df.to_dict()['Value']"
   ]
  },
  {
   "cell_type": "code",
   "execution_count": null,
   "metadata": {},
   "outputs": [],
   "source": []
  }
 ],
 "metadata": {
  "kernelspec": {
   "display_name": "Python 3",
   "language": "python",
   "name": "python3"
  },
  "language_info": {
   "codemirror_mode": {
    "name": "ipython",
    "version": 3
   },
   "file_extension": ".py",
   "mimetype": "text/x-python",
   "name": "python",
   "nbconvert_exporter": "python",
   "pygments_lexer": "ipython3",
   "version": "3.6.7"
  }
 },
 "nbformat": 4,
 "nbformat_minor": 2
}
